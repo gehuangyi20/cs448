{
 "cells": [
  {
   "cell_type": "markdown",
   "id": "hungarian-butler",
   "metadata": {
    "slideshow": {
     "slide_type": "slide"
    }
   },
   "source": [
    "# PSO 02\n",
    "\n",
    "### Instructor: Huangyi Ge\n",
    "\n",
    "- PSO 01/05 materials: [github](https://github.com/gehuangyi20/cs448)"
   ]
  },
  {
   "cell_type": "markdown",
   "id": "assumed-customer",
   "metadata": {
    "slideshow": {
     "slide_type": "skip"
    },
    "tags": [
     "remove_cell"
    ]
   },
   "source": [
    "---\n",
    "\n",
    "Serve html slides\n",
    "\n",
    "`jupyter nbconvert 2020-02-01\\ PSO\\ 02.ipynb.ipynb --to slides --post serve`\n",
    "\n",
    "Make markdown file:\n",
    "\n",
    "`jupyter nbconvert 2020-02-01\\ PSO\\ 02.ipynb  --to markdown  --TagRemovePreprocessor.remove_cell_tags=\"remove_cell\"`\n",
    "\n",
    "---"
   ]
  },
  {
   "cell_type": "code",
   "execution_count": 1,
   "id": "sealed-trail",
   "metadata": {
    "slideshow": {
     "slide_type": "skip"
    },
    "tags": [
     "remove_cell"
    ]
   },
   "outputs": [],
   "source": [
    "%load_ext sql"
   ]
  },
  {
   "cell_type": "code",
   "execution_count": 2,
   "id": "intermediate-briefing",
   "metadata": {
    "slideshow": {
     "slide_type": "skip"
    },
    "tags": [
     "remove_cell"
    ]
   },
   "outputs": [],
   "source": [
    "import pandas as pd"
   ]
  },
  {
   "cell_type": "code",
   "execution_count": 3,
   "id": "artificial-boston",
   "metadata": {
    "slideshow": {
     "slide_type": "skip"
    },
    "tags": [
     "remove_cell"
    ]
   },
   "outputs": [],
   "source": [
    "import tabulate"
   ]
  },
  {
   "cell_type": "code",
   "execution_count": 4,
   "id": "undefined-module",
   "metadata": {
    "slideshow": {
     "slide_type": "skip"
    },
    "tags": [
     "remove_cell"
    ]
   },
   "outputs": [],
   "source": [
    "%%bash \n",
    "cp resources/sql-original.db sql.db"
   ]
  },
  {
   "cell_type": "code",
   "execution_count": 5,
   "id": "union-secondary",
   "metadata": {
    "slideshow": {
     "slide_type": "skip"
    },
    "tags": [
     "remove_cell"
    ]
   },
   "outputs": [],
   "source": [
    "%sql sqlite:///resources/sql.db"
   ]
  },
  {
   "cell_type": "markdown",
   "id": "express-wyoming",
   "metadata": {
    "slideshow": {
     "slide_type": "slide"
    }
   },
   "source": [
    "### Setup\n",
    "\n",
    "1. [Download database](resources/sql-original.db)\n",
    "2. Start SQLite `$sqlite3`\n",
    "3. Open database `sqlite> .open sql-original.db`\n",
    "4. Setup headers\n",
    "```\n",
    "sqlite> .header on\n",
    "sqlite> .mode column\n",
    "```"
   ]
  },
  {
   "cell_type": "markdown",
   "id": "french-cattle",
   "metadata": {
    "slideshow": {
     "slide_type": "slide"
    }
   },
   "source": [
    "### Schema for instructor relation\n",
    "\n",
    "Recall the schema that we used previously:\n",
    "\n",
    "![Figure 2.9: Schema diagram for instructor relation](figures/ERD-instructor.png)\n",
    "\n",
    "#### SQL data definition\n",
    "\n",
    "```sql\n",
    "create table instructor\n",
    "    (ID             varchar(5), \n",
    "     name           varchar(20) not null, \n",
    "     dept_name      varchar(20), \n",
    "     salary         numeric(8,2) check (salary > 29000),\n",
    "     primary key (ID),\n",
    "     foreign key (dept_name) references department (dept_name)\n",
    "        on delete set null\n",
    "    );\n",
    "```"
   ]
  },
  {
   "cell_type": "code",
   "execution_count": 6,
   "id": "moved-guyana",
   "metadata": {
    "slideshow": {
     "slide_type": "skip"
    },
    "tags": [
     "remove_cell"
    ]
   },
   "outputs": [
    {
     "name": "stdout",
     "output_type": "stream",
     "text": [
      " * sqlite:///resources/sql.db\n",
      "Done.\n",
      "|    ID | name       | dept_name   |   salary |\n",
      "|------:|:-----------|:------------|---------:|\n",
      "| 10101 | Srinivasan | Comp. Sci.  |    65000 |\n",
      "| 12121 | Wu         | Finance     |    90000 |\n",
      "| 15151 | Mozart     | Music       |    40000 |\n",
      "| 22222 | Einstein   | Physics     |    95000 |\n",
      "| 32343 | El Said    | History     |    60000 |\n",
      "| 33456 | Gold       | Physics     |    87000 |\n",
      "| 45565 | Katz       | Comp. Sci.  |    75000 |\n",
      "| 58583 | Califieri  | History     |    62000 |\n",
      "| 76543 | Singh      | Finance     |    80000 |\n",
      "| 76766 | Crick      | Biology     |    72000 |\n",
      "| 83821 | Brandt     | Comp. Sci.  |    92000 |\n",
      "| 98345 | Kim        | Elec. Eng.  |    80000 |\n"
     ]
    }
   ],
   "source": [
    "result = %sql select * from instructor;\n",
    "result = result.DataFrame()\n",
    "print(result.to_markdown(index=False))"
   ]
  },
  {
   "cell_type": "markdown",
   "id": "social-toilet",
   "metadata": {
    "slideshow": {
     "slide_type": "slide"
    }
   },
   "source": [
    "#### Example data\n",
    "\n",
    "|    ID | name       | dept_name   |   salary |\n",
    "|------:|:-----------|:------------|---------:|\n",
    "| 10101 | Srinivasan | Comp. Sci.  |    65000 |\n",
    "| 12121 | Wu         | Finance     |    90000 |\n",
    "| 15151 | Mozart     | Music       |    40000 |\n",
    "| 22222 | Einstein   | Physics     |    95000 |\n",
    "| 32343 | El Said    | History     |    60000 |\n",
    "| 33456 | Gold       | Physics     |    87000 |\n",
    "| 45565 | Katz       | Comp. Sci.  |    75000 |\n",
    "| 58583 | Califieri  | History     |    62000 |\n",
    "| 76543 | Singh      | Finance     |    80000 |\n",
    "| 76766 | Crick      | Biology     |    72000 |\n",
    "| 83821 | Brandt     | Comp. Sci.  |    92000 |\n",
    "| 98345 | Kim        | Elec. Eng.  |    80000 |\n"
   ]
  },
  {
   "cell_type": "markdown",
   "id": "loaded-dragon",
   "metadata": {
    "slideshow": {
     "slide_type": "slide"
    }
   },
   "source": [
    "## Schema Evolution\n",
    "\n",
    "- Database design is usually not a one-time activity. \n",
    "- The needs of an organization evolve continually, and the data that it needs to store also evolve correspondingly.\n",
    "- Changes in the schema can affect all aspects of the database application."
   ]
  },
  {
   "cell_type": "markdown",
   "id": "brave-indonesia",
   "metadata": {
    "slideshow": {
     "slide_type": "slide"
    }
   },
   "source": [
    "## Schema for instructor relation\n",
    "\n",
    "Lets say that we want to add a phone number for instructors.\n",
    "\n",
    "### Option 1\n",
    "\n",
    "We could simply add an attribute *phone_number* to the _instructor_ relation.\n",
    "\n",
    "![Option 1: Schema diagram for instructor relation](figures/ERD-instructor-Option_1.png)\n"
   ]
  },
  {
   "cell_type": "markdown",
   "id": "communist-julian",
   "metadata": {
    "slideshow": {
     "slide_type": "fragment"
    }
   },
   "source": [
    "#### ALTER TABLE Command\n",
    "\n",
    "In SQLite, we add a new column `phone_number` to the `instructor` table as follows:\n",
    "\n",
    "```sql\n",
    "ALTER TABLE instructor ADD COLUMN phone_number varchar(12);\n",
    "```"
   ]
  },
  {
   "cell_type": "code",
   "execution_count": 7,
   "id": "communist-desert",
   "metadata": {
    "slideshow": {
     "slide_type": "skip"
    },
    "tags": [
     "remove_cell"
    ]
   },
   "outputs": [
    {
     "name": "stdout",
     "output_type": "stream",
     "text": [
      " * sqlite:///resources/sql.db\n",
      "Done.\n"
     ]
    },
    {
     "data": {
      "text/plain": [
       "[]"
      ]
     },
     "execution_count": 7,
     "metadata": {},
     "output_type": "execute_result"
    }
   ],
   "source": [
    "%sql ALTER TABLE instructor ADD COLUMN phone_number varchar(12);"
   ]
  },
  {
   "cell_type": "code",
   "execution_count": 8,
   "id": "smart-skill",
   "metadata": {
    "slideshow": {
     "slide_type": "skip"
    },
    "tags": [
     "remove_cell"
    ]
   },
   "outputs": [],
   "source": [
    "import random\n",
    "def random_phone_num_generator():\n",
    "    first = str(random.randint(100, 999))\n",
    "    second = str(random.randint(1, 888)).zfill(3)\n",
    "\n",
    "    last = (str(random.randint(1, 9998)).zfill(4))\n",
    "    while last in ['1111', '2222', '3333', '4444', '5555', '6666', '7777', '8888']:\n",
    "        last = (str(random.randint(1, 9998)).zfill(4))\n",
    "\n",
    "    return '{}-{}-{}'.format(first, second, last)"
   ]
  },
  {
   "cell_type": "code",
   "execution_count": 9,
   "id": "direct-delivery",
   "metadata": {
    "slideshow": {
     "slide_type": "skip"
    },
    "tags": [
     "remove_cell"
    ]
   },
   "outputs": [
    {
     "name": "stdout",
     "output_type": "stream",
     "text": [
      " * sqlite:///resources/sql.db\n",
      "Done.\n",
      "UPDATE instructor SET phone_number = '358-777-1265' WHERE ID = 10101;\n",
      "UPDATE instructor SET phone_number = '492-554-3421' WHERE ID = 12121;\n",
      "UPDATE instructor SET phone_number = '722-035-7216' WHERE ID = 15151;\n",
      "UPDATE instructor SET phone_number = '275-026-7979' WHERE ID = 22222;\n",
      "UPDATE instructor SET phone_number = '175-304-5605' WHERE ID = 32343;\n",
      "UPDATE instructor SET phone_number = '132-360-4775' WHERE ID = 33456;\n",
      "UPDATE instructor SET phone_number = '182-846-5531' WHERE ID = 45565;\n",
      "UPDATE instructor SET phone_number = '722-419-0625' WHERE ID = 58583;\n",
      "UPDATE instructor SET phone_number = '802-567-3477' WHERE ID = 76543;\n",
      "UPDATE instructor SET phone_number = '735-031-4651' WHERE ID = 76766;\n",
      "UPDATE instructor SET phone_number = '573-255-8741' WHERE ID = 83821;\n"
     ]
    }
   ],
   "source": [
    "result = %sql select ID from instructor;\n",
    "num_instructors = len(result)\n",
    "\n",
    "gen_phone_numbers = [random_phone_num_generator() for i in range(num_instructors)]\n",
    "assert len(gen_phone_numbers) == len(set(gen_phone_numbers))\n",
    "update_commands = []\n",
    "\n",
    "for idx, record in enumerate(result[:-1]):\n",
    "    uid = record[0]\n",
    "    update = f\"UPDATE instructor SET phone_number = '{gen_phone_numbers[idx]}' WHERE ID = {uid};\"\n",
    "    update_commands.append(update)\n",
    "    print(update)"
   ]
  },
  {
   "cell_type": "markdown",
   "id": "considerable-contest",
   "metadata": {
    "slideshow": {
     "slide_type": "slide"
    }
   },
   "source": [
    "#### Update Records\n",
    "\n",
    "Then, we can add phone numbers for each instructor using `UPDATE`\n",
    "\n",
    "```sql\n",
    "UPDATE instructor SET phone_number = '358-777-1265' WHERE ID = 10101;\n",
    "UPDATE instructor SET phone_number = '492-554-3421' WHERE ID = 12121;\n",
    "UPDATE instructor SET phone_number = '722-035-7216' WHERE ID = 15151;\n",
    "UPDATE instructor SET phone_number = '275-026-7979' WHERE ID = 22222;\n",
    "UPDATE instructor SET phone_number = '175-304-5605' WHERE ID = 32343;\n",
    "UPDATE instructor SET phone_number = '132-360-4775' WHERE ID = 33456;\n",
    "UPDATE instructor SET phone_number = '182-846-5531' WHERE ID = 45565;\n",
    "UPDATE instructor SET phone_number = '722-419-0625' WHERE ID = 58583;\n",
    "UPDATE instructor SET phone_number = '802-567-3477' WHERE ID = 76543;\n",
    "UPDATE instructor SET phone_number = '735-031-4651' WHERE ID = 76766;\n",
    "UPDATE instructor SET phone_number = '573-255-8741' WHERE ID = 83821;\n",
    "```\n",
    "\n",
    "Note: we haven't added a phone number for instructor Kim (ID = 98345)."
   ]
  },
  {
   "cell_type": "code",
   "execution_count": 10,
   "id": "scenic-legend",
   "metadata": {
    "slideshow": {
     "slide_type": "skip"
    },
    "tags": [
     "remove_cell"
    ]
   },
   "outputs": [
    {
     "name": "stdout",
     "output_type": "stream",
     "text": [
      " * sqlite:///resources/sql.db\n",
      "1 rows affected.\n",
      " * sqlite:///resources/sql.db\n",
      "1 rows affected.\n",
      " * sqlite:///resources/sql.db\n",
      "1 rows affected.\n",
      " * sqlite:///resources/sql.db\n",
      "1 rows affected.\n",
      " * sqlite:///resources/sql.db\n",
      "1 rows affected.\n",
      " * sqlite:///resources/sql.db\n",
      "1 rows affected.\n",
      " * sqlite:///resources/sql.db\n",
      "1 rows affected.\n",
      " * sqlite:///resources/sql.db\n",
      "1 rows affected.\n",
      " * sqlite:///resources/sql.db\n",
      "1 rows affected.\n",
      " * sqlite:///resources/sql.db\n",
      "1 rows affected.\n",
      " * sqlite:///resources/sql.db\n",
      "1 rows affected.\n"
     ]
    }
   ],
   "source": [
    "for update in update_commands:\n",
    "    %sql $update"
   ]
  },
  {
   "cell_type": "code",
   "execution_count": 11,
   "id": "signal-williams",
   "metadata": {
    "slideshow": {
     "slide_type": "skip"
    },
    "tags": [
     "remove_cell"
    ]
   },
   "outputs": [
    {
     "name": "stdout",
     "output_type": "stream",
     "text": [
      " * sqlite:///resources/sql.db\n",
      "Done.\n",
      "|    ID | name       | dept_name   |   salary | phone_number   |\n",
      "|------:|:-----------|:------------|---------:|:---------------|\n",
      "| 10101 | Srinivasan | Comp. Sci.  |    65000 | 358-777-1265   |\n",
      "| 12121 | Wu         | Finance     |    90000 | 492-554-3421   |\n",
      "| 15151 | Mozart     | Music       |    40000 | 722-035-7216   |\n",
      "| 22222 | Einstein   | Physics     |    95000 | 275-026-7979   |\n",
      "| 32343 | El Said    | History     |    60000 | 175-304-5605   |\n",
      "| 33456 | Gold       | Physics     |    87000 | 132-360-4775   |\n",
      "| 45565 | Katz       | Comp. Sci.  |    75000 | 182-846-5531   |\n",
      "| 58583 | Califieri  | History     |    62000 | 722-419-0625   |\n",
      "| 76543 | Singh      | Finance     |    80000 | 802-567-3477   |\n",
      "| 76766 | Crick      | Biology     |    72000 | 735-031-4651   |\n",
      "| 83821 | Brandt     | Comp. Sci.  |    92000 | 573-255-8741   |\n",
      "| 98345 | Kim        | Elec. Eng.  |    80000 |                |\n"
     ]
    }
   ],
   "source": [
    "result = %sql select * from instructor;\n",
    "result = result.DataFrame()\n",
    "print(result.to_markdown(index=False))"
   ]
  },
  {
   "cell_type": "markdown",
   "id": "noted-christmas",
   "metadata": {
    "slideshow": {
     "slide_type": "slide"
    }
   },
   "source": [
    "#### Updated Table\n",
    "\n",
    "We can take a look at the `instructor` table with `phone_number` column and values we inserted:\n",
    "\n",
    "```sql\n",
    "select * from instructor;\n",
    "```\n",
    "\n",
    "|    ID | name       | dept_name   |   salary | phone_number   |\n",
    "|------:|:-----------|:------------|---------:|:---------------|\n",
    "| 10101 | Srinivasan | Comp. Sci.  |    65000 | 358-777-1265   |\n",
    "| 12121 | Wu         | Finance     |    90000 | 492-554-3421   |\n",
    "| 15151 | Mozart     | Music       |    40000 | 722-035-7216   |\n",
    "| 22222 | Einstein   | Physics     |    95000 | 275-026-7979   |\n",
    "| 32343 | El Said    | History     |    60000 | 175-304-5605   |\n",
    "| 33456 | Gold       | Physics     |    87000 | 132-360-4775   |\n",
    "| 45565 | Katz       | Comp. Sci.  |    75000 | 182-846-5531   |\n",
    "| 58583 | Califieri  | History     |    62000 | 722-419-0625   |\n",
    "| 76543 | Singh      | Finance     |    80000 | 802-567-3477   |\n",
    "| 76766 | Crick      | Biology     |    72000 | 735-031-4651   |\n",
    "| 83821 | Brandt     | Comp. Sci.  |    92000 | 573-255-8741   |\n",
    "| 98345 | Kim        | Elec. Eng.  |    80000 |                |\n",
    "\n",
    "Remember: we didn't add a phone number for instructor Kim (ID = 98345)."
   ]
  },
  {
   "cell_type": "markdown",
   "id": "closing-latino",
   "metadata": {
    "slideshow": {
     "slide_type": "slide"
    }
   },
   "source": [
    "## Schema for instructor relation\n",
    "\n",
    "What if we want to have multiple phone number for instructors?"
   ]
  },
  {
   "cell_type": "markdown",
   "id": "hearing-debut",
   "metadata": {
    "slideshow": {
     "slide_type": "fragment"
    }
   },
   "source": [
    "### Option 2\n",
    "\n",
    "If we make the attribute `phone_number` part of the primary key, then we could have multiple phone numbers per instructor.\n",
    "\n",
    "![Option 2: Schema diagram for instructor relation](figures/ERD-instructor-Option_2.png)\n",
    "\n",
    "#### Example data\n",
    "\n",
    "|    ID | name       | dept_name   |   salary | phone_number   |\n",
    "|------:|:-----------|:------------|---------:|:---------------|\n",
    "| 10101 | Srinivasan | Comp. Sci.  |    65000 | 999-113-1268   |\n",
    "| 10101 | Srinivasan | Comp. Sci.  |    80000 | 906-214-7631   |\n",
    "\n",
    "What's wrong with this approach?"
   ]
  },
  {
   "cell_type": "markdown",
   "id": "stainless-kennedy",
   "metadata": {
    "slideshow": {
     "slide_type": "fragment"
    }
   },
   "source": [
    "- It creates redundancy in the database (breaking Boyce-Codd Normal Form).\n",
    "- It can cause data inconsistencies (Ex. updated salary for an instructor for only 1 record)."
   ]
  },
  {
   "cell_type": "markdown",
   "id": "absolute-plastic",
   "metadata": {
    "slideshow": {
     "slide_type": "slide"
    }
   },
   "source": [
    "## Schema for instructor relation\n",
    "\n",
    "What if we want to have multiple phone number for instructors?\n",
    "\n",
    "### Option 3\n",
    "\n",
    "Use of phone as an entity allows extra information about phone numbers (plus multiple phone numbers).\n",
    "\n",
    "![Option 3: Schema diagram for instructor relation](figures/ERD-instructor-Option_3.png)"
   ]
  },
  {
   "cell_type": "markdown",
   "id": "neutral-episode",
   "metadata": {
    "slideshow": {
     "slide_type": "slide"
    }
   },
   "source": [
    "##### SQLite ALTER TABLE\n",
    "\n",
    "- SQLite supports a limited subset of `ALTER TABLE`. \n",
    "- The `ALTER TABLE` command in SQLite allows the user to rename a table or to add a new column to an existing table. \n",
    "- It is **not possible** to:\n",
    "  - _rename_ or _remove_ a column, or \n",
    "  - _add_ or _remove_ constraints from a table."
   ]
  },
  {
   "cell_type": "markdown",
   "id": "regular-friday",
   "metadata": {
    "slideshow": {
     "slide_type": "fragment"
    }
   },
   "source": [
    "Therefore, the following will **not work** on SQLite:\n",
    "\n",
    "```sql\n",
    "ALTER TABLE instructor DROP COLUMN phone_number;\n",
    "```"
   ]
  },
  {
   "cell_type": "markdown",
   "id": "essential-nursing",
   "metadata": {
    "slideshow": {
     "slide_type": "slide"
    }
   },
   "source": [
    "To \"undo\" the changes from Option (a), we can do the following:\n",
    "\n",
    "1. create new table without the `phone_number` column,\n",
    "2. copy all records,\n",
    "3. drop the old table,\n",
    "4. rename the new table."
   ]
  },
  {
   "cell_type": "markdown",
   "id": "brilliant-paint",
   "metadata": {
    "slideshow": {
     "slide_type": "subslide"
    }
   },
   "source": [
    "#### 1. Create new instructor table\n",
    "\n",
    "```sql\n",
    "CREATE TABLE instructor_new\n",
    "    (ID             varchar(5), \n",
    "     name           varchar(20) NOT NULL, \n",
    "     dept_name      varchar(20), \n",
    "     salary         numeric(8,2) check (salary > 29000),\n",
    "     PRIMARY KEY (ID),\n",
    "     FOREIGN KEY (dept_name) REFERENCES department (dept_name)\n",
    "        ON DELETE SET NULL\n",
    "    );\n",
    "```"
   ]
  },
  {
   "cell_type": "code",
   "execution_count": 12,
   "id": "straight-entrepreneur",
   "metadata": {
    "slideshow": {
     "slide_type": "skip"
    },
    "tags": [
     "remove_cell"
    ]
   },
   "outputs": [
    {
     "name": "stdout",
     "output_type": "stream",
     "text": [
      " * sqlite:///resources/sql.db\n",
      "Done.\n"
     ]
    },
    {
     "data": {
      "text/plain": [
       "[]"
      ]
     },
     "execution_count": 12,
     "metadata": {},
     "output_type": "execute_result"
    }
   ],
   "source": [
    "%%sql\n",
    "CREATE TABLE instructor_new\n",
    "    (ID             varchar(5), \n",
    "     name           varchar(20) NOT NULL, \n",
    "     dept_name      varchar(20), \n",
    "     salary         numeric(8,2) check (salary > 29000),\n",
    "     PRIMARY KEY (ID),\n",
    "     FOREIGN KEY (dept_name) REFERENCES department (dept_name)\n",
    "        ON DELETE SET NULL\n",
    "    );"
   ]
  },
  {
   "cell_type": "markdown",
   "id": "close-ordinance",
   "metadata": {
    "slideshow": {
     "slide_type": "subslide"
    }
   },
   "source": [
    "#### 2. Copy all records\n",
    "\n",
    "```sql\n",
    "INSERT INTO instructor_new\n",
    "SELECT instructor.ID, instructor.name, instructor.dept_name, instructor.salary\n",
    "FROM instructor;\n",
    "```"
   ]
  },
  {
   "cell_type": "code",
   "execution_count": 13,
   "id": "coastal-range",
   "metadata": {
    "slideshow": {
     "slide_type": "skip"
    },
    "tags": [
     "remove_cell"
    ]
   },
   "outputs": [
    {
     "name": "stdout",
     "output_type": "stream",
     "text": [
      " * sqlite:///resources/sql.db\n",
      "12 rows affected.\n"
     ]
    },
    {
     "data": {
      "text/plain": [
       "[]"
      ]
     },
     "execution_count": 13,
     "metadata": {},
     "output_type": "execute_result"
    }
   ],
   "source": [
    "%%sql \n",
    "INSERT INTO instructor_new\n",
    "SELECT instructor.ID, instructor.name, instructor.dept_name, instructor.salary\n",
    "FROM instructor;"
   ]
  },
  {
   "cell_type": "markdown",
   "id": "greater-hazard",
   "metadata": {
    "slideshow": {
     "slide_type": "subslide"
    }
   },
   "source": [
    "#### 3. Drop old table\n",
    "\n",
    "```sql\n",
    "DROP TABLE instructor;\n",
    "```"
   ]
  },
  {
   "cell_type": "code",
   "execution_count": 14,
   "id": "satisfactory-compatibility",
   "metadata": {
    "slideshow": {
     "slide_type": "skip"
    },
    "tags": [
     "remove_cell"
    ]
   },
   "outputs": [
    {
     "name": "stdout",
     "output_type": "stream",
     "text": [
      " * sqlite:///resources/sql.db\n",
      "Done.\n"
     ]
    },
    {
     "data": {
      "text/plain": [
       "[]"
      ]
     },
     "execution_count": 14,
     "metadata": {},
     "output_type": "execute_result"
    }
   ],
   "source": [
    "%sql DROP TABLE instructor;"
   ]
  },
  {
   "cell_type": "markdown",
   "id": "younger-criticism",
   "metadata": {
    "slideshow": {
     "slide_type": "subslide"
    }
   },
   "source": [
    "#### 4. Rename new table\n",
    "\n",
    "```sql\n",
    "ALTER TABLE instructor_new RENAME TO instructor;\n",
    "```"
   ]
  },
  {
   "cell_type": "code",
   "execution_count": 15,
   "id": "comparable-moore",
   "metadata": {
    "slideshow": {
     "slide_type": "skip"
    },
    "tags": [
     "remove_cell"
    ]
   },
   "outputs": [
    {
     "name": "stdout",
     "output_type": "stream",
     "text": [
      " * sqlite:///resources/sql.db\n",
      "Done.\n"
     ]
    },
    {
     "data": {
      "text/html": [
       "<table>\n",
       "    <tr>\n",
       "        <th>1</th>\n",
       "    </tr>\n",
       "</table>"
      ],
      "text/plain": [
       "[]"
      ]
     },
     "execution_count": 15,
     "metadata": {},
     "output_type": "execute_result"
    }
   ],
   "source": [
    "%sql ALTER TABLE instructor_new RENAME TO instructor;"
   ]
  },
  {
   "cell_type": "markdown",
   "id": "express-termination",
   "metadata": {
    "slideshow": {
     "slide_type": "slide"
    }
   },
   "source": [
    "## Schema for instructor relation\n",
    "\n",
    "What if we want to have multiple phone number for instructors?\n",
    "\n",
    "### Option 3\n",
    "\n",
    "Use of phone as an entity allows extra information about phone numbers (plus multiple phone numbers).\n",
    "\n",
    "![Option 3: Schema diagram for instructor relation](figures/ERD-instructor-Option_3.png)"
   ]
  },
  {
   "cell_type": "markdown",
   "id": "strong-juvenile",
   "metadata": {
    "slideshow": {
     "slide_type": "slide"
    }
   },
   "source": [
    "#### SQL data definitions\n",
    "\n",
    "Create a table to store and assign the phone numbers:\n",
    "\n",
    "```sql\n",
    "CREATE TABLE phone\n",
    "    (phone_number   varchar(12), \n",
    "     location       varchar(6)\n",
    "             CHECK (location IN ('Office', 'Cell', 'Home', 'Other')), \n",
    "     ID             varchar(5), \n",
    "     PRIMARY KEY (phone_number),\n",
    "     FOREIGN KEY (ID) REFERENCES instructor (ID)\n",
    "            ON DELETE SET NULL\n",
    "    );\n",
    "```\n"
   ]
  },
  {
   "cell_type": "markdown",
   "id": "literary-operations",
   "metadata": {
    "slideshow": {
     "slide_type": "fragment"
    }
   },
   "source": [
    "#### Questions\n",
    "\n",
    "1. Does this require that everyone has a phone number?\n",
    "3. What happens if we make the instructor ID part of the primary key?"
   ]
  },
  {
   "cell_type": "markdown",
   "id": "golden-palace",
   "metadata": {
    "slideshow": {
     "slide_type": "fragment"
    }
   },
   "source": [
    "#### Answers\n",
    "\n",
    "1. This schema does not require instructors to have a phone number.\n",
    "3. Making the instructor ID part of the primary key allows for instructors to have the same phone number."
   ]
  },
  {
   "cell_type": "code",
   "execution_count": 18,
   "id": "interested-column",
   "metadata": {
    "slideshow": {
     "slide_type": "skip"
    },
    "tags": [
     "remove_cell"
    ]
   },
   "outputs": [
    {
     "name": "stdout",
     "output_type": "stream",
     "text": [
      " * sqlite:///resources/sql.db\n",
      "Done.\n"
     ]
    },
    {
     "data": {
      "text/plain": [
       "[]"
      ]
     },
     "execution_count": 18,
     "metadata": {},
     "output_type": "execute_result"
    }
   ],
   "source": [
    "%sql DROP TABLE phone;"
   ]
  },
  {
   "cell_type": "code",
   "execution_count": 19,
   "id": "through-wagon",
   "metadata": {
    "slideshow": {
     "slide_type": "skip"
    },
    "tags": [
     "remove_cell"
    ]
   },
   "outputs": [
    {
     "name": "stdout",
     "output_type": "stream",
     "text": [
      " * sqlite:///resources/sql.db\n",
      "Done.\n"
     ]
    },
    {
     "data": {
      "text/plain": [
       "[]"
      ]
     },
     "execution_count": 19,
     "metadata": {},
     "output_type": "execute_result"
    }
   ],
   "source": [
    "%%sql\n",
    "\n",
    "CREATE TABLE phone\n",
    "    (phone_number   varchar(12), \n",
    "     location       varchar(6)\n",
    "             CHECK (location IN ('Office', 'Cell', 'Home', 'Other')), \n",
    "     ID             varchar(5), \n",
    "     PRIMARY KEY (phone_number),\n",
    "     FOREIGN KEY (ID) REFERENCES instructor (ID)\n",
    "            ON DELETE SET NULL\n",
    "    );"
   ]
  },
  {
   "cell_type": "code",
   "execution_count": 20,
   "id": "derived-deposit",
   "metadata": {
    "slideshow": {
     "slide_type": "skip"
    },
    "tags": [
     "remove_cell"
    ]
   },
   "outputs": [
    {
     "name": "stdout",
     "output_type": "stream",
     "text": [
      " * sqlite:///resources/sql.db\n",
      "Done.\n"
     ]
    }
   ],
   "source": [
    "result = %sql select ID from instructor;\n",
    "num_instructors = len(result)\n",
    "\n",
    "alt_phone_numbers = [random_phone_num_generator() for i in range(num_instructors)]\n",
    "assert len(alt_phone_numbers) == len(set(alt_phone_numbers))\n",
    "locations = {'Office': gen_phone_numbers, 'Cell': alt_phone_numbers}\n",
    "\n",
    "phone_commands = []\n",
    "phone_inst_commands = []\n",
    "for location in ['Office', 'Cell']:\n",
    "    for idx, record in enumerate(result[:-1]):\n",
    "        uid = record[0]\n",
    "        phone = locations[location][idx]\n",
    "        \n",
    "        # phone table\n",
    "        insert = f\"INSERT INTO phone VALUES ('{phone}', '{location}', '{uid}');\"\n",
    "        phone_commands.append(insert)"
   ]
  },
  {
   "cell_type": "code",
   "execution_count": 21,
   "id": "electronic-weekend",
   "metadata": {
    "slideshow": {
     "slide_type": "skip"
    },
    "tags": [
     "remove_cell"
    ]
   },
   "outputs": [
    {
     "name": "stdout",
     "output_type": "stream",
     "text": [
      "INSERT INTO phone VALUES ('358-777-1265', 'Office', '10101');\n",
      "INSERT INTO phone VALUES ('492-554-3421', 'Office', '12121');\n",
      "INSERT INTO phone VALUES ('722-035-7216', 'Office', '15151');\n",
      "INSERT INTO phone VALUES ('275-026-7979', 'Office', '22222');\n",
      "INSERT INTO phone VALUES ('175-304-5605', 'Office', '32343');\n",
      "INSERT INTO phone VALUES ('132-360-4775', 'Office', '33456');\n",
      "INSERT INTO phone VALUES ('182-846-5531', 'Office', '45565');\n",
      "INSERT INTO phone VALUES ('722-419-0625', 'Office', '58583');\n",
      "INSERT INTO phone VALUES ('802-567-3477', 'Office', '76543');\n",
      "INSERT INTO phone VALUES ('735-031-4651', 'Office', '76766');\n",
      "INSERT INTO phone VALUES ('573-255-8741', 'Office', '83821');\n",
      "INSERT INTO phone VALUES ('711-239-7079', 'Cell', '10101');\n",
      "INSERT INTO phone VALUES ('357-271-7033', 'Cell', '12121');\n",
      "INSERT INTO phone VALUES ('865-740-1566', 'Cell', '15151');\n",
      "INSERT INTO phone VALUES ('341-066-0914', 'Cell', '22222');\n",
      "INSERT INTO phone VALUES ('843-858-5992', 'Cell', '32343');\n",
      "INSERT INTO phone VALUES ('386-110-2746', 'Cell', '33456');\n",
      "INSERT INTO phone VALUES ('532-340-6156', 'Cell', '45565');\n",
      "INSERT INTO phone VALUES ('593-208-3674', 'Cell', '58583');\n",
      "INSERT INTO phone VALUES ('851-114-9021', 'Cell', '76543');\n",
      "INSERT INTO phone VALUES ('759-309-1635', 'Cell', '76766');\n",
      "INSERT INTO phone VALUES ('691-011-8290', 'Cell', '83821');\n",
      " * sqlite:///resources/sql.db\n",
      "1 rows affected.\n",
      " * sqlite:///resources/sql.db\n",
      "1 rows affected.\n",
      " * sqlite:///resources/sql.db\n",
      "1 rows affected.\n",
      " * sqlite:///resources/sql.db\n",
      "1 rows affected.\n",
      " * sqlite:///resources/sql.db\n",
      "1 rows affected.\n",
      " * sqlite:///resources/sql.db\n",
      "1 rows affected.\n",
      " * sqlite:///resources/sql.db\n",
      "1 rows affected.\n",
      " * sqlite:///resources/sql.db\n",
      "1 rows affected.\n",
      " * sqlite:///resources/sql.db\n",
      "1 rows affected.\n",
      " * sqlite:///resources/sql.db\n",
      "1 rows affected.\n",
      " * sqlite:///resources/sql.db\n",
      "1 rows affected.\n",
      " * sqlite:///resources/sql.db\n",
      "1 rows affected.\n",
      " * sqlite:///resources/sql.db\n",
      "1 rows affected.\n",
      " * sqlite:///resources/sql.db\n",
      "1 rows affected.\n",
      " * sqlite:///resources/sql.db\n",
      "1 rows affected.\n",
      " * sqlite:///resources/sql.db\n",
      "1 rows affected.\n",
      " * sqlite:///resources/sql.db\n",
      "1 rows affected.\n",
      " * sqlite:///resources/sql.db\n",
      "1 rows affected.\n",
      " * sqlite:///resources/sql.db\n",
      "1 rows affected.\n",
      " * sqlite:///resources/sql.db\n",
      "1 rows affected.\n",
      " * sqlite:///resources/sql.db\n",
      "1 rows affected.\n",
      " * sqlite:///resources/sql.db\n",
      "1 rows affected.\n"
     ]
    }
   ],
   "source": [
    "for insert in phone_commands:\n",
    "    print(insert)\n",
    "\n",
    "for insert in phone_commands:\n",
    "    %sql $insert"
   ]
  },
  {
   "cell_type": "markdown",
   "id": "novel-glucose",
   "metadata": {
    "slideshow": {
     "slide_type": "slide"
    }
   },
   "source": [
    "#### INSERT Commands for Table: phone\n",
    "\n",
    "These will add the phone numbers:\n",
    "\n",
    "```sql\n",
    "INSERT INTO phone VALUES ('358-777-1265', 'Office', '10101');\n",
    "INSERT INTO phone VALUES ('492-554-3421', 'Office', '12121');\n",
    "INSERT INTO phone VALUES ('722-035-7216', 'Office', '15151');\n",
    "INSERT INTO phone VALUES ('275-026-7979', 'Office', '22222');\n",
    "INSERT INTO phone VALUES ('175-304-5605', 'Office', '32343');\n",
    "INSERT INTO phone VALUES ('132-360-4775', 'Office', '33456');\n",
    "INSERT INTO phone VALUES ('182-846-5531', 'Office', '45565');\n",
    "INSERT INTO phone VALUES ('722-419-0625', 'Office', '58583');\n",
    "INSERT INTO phone VALUES ('802-567-3477', 'Office', '76543');\n",
    "INSERT INTO phone VALUES ('735-031-4651', 'Office', '76766');\n",
    "INSERT INTO phone VALUES ('573-255-8741', 'Office', '83821');\n",
    "INSERT INTO phone VALUES ('711-239-7079', 'Cell', '10101');\n",
    "INSERT INTO phone VALUES ('357-271-7033', 'Cell', '12121');\n",
    "INSERT INTO phone VALUES ('865-740-1566', 'Cell', '15151');\n",
    "INSERT INTO phone VALUES ('341-066-0914', 'Cell', '22222');\n",
    "INSERT INTO phone VALUES ('843-858-5992', 'Cell', '32343');\n",
    "INSERT INTO phone VALUES ('386-110-2746', 'Cell', '33456');\n",
    "INSERT INTO phone VALUES ('532-340-6156', 'Cell', '45565');\n",
    "INSERT INTO phone VALUES ('593-208-3674', 'Cell', '58583');\n",
    "INSERT INTO phone VALUES ('851-114-9021', 'Cell', '76543');\n",
    "INSERT INTO phone VALUES ('759-309-1635', 'Cell', '76766');\n",
    "INSERT INTO phone VALUES ('691-011-8290', 'Cell', '83821');\n",
    "```\n",
    "\n",
    "Note: we haven't added a phone numbers for instructor Kim (ID = 98345)."
   ]
  },
  {
   "cell_type": "markdown",
   "id": "linear-provincial",
   "metadata": {
    "slideshow": {
     "slide_type": "slide"
    }
   },
   "source": [
    "### Updated records\n",
    "\n",
    "Show the instructor IDs, names, and _Office_ phone numbers\n",
    "\n",
    "#### Query\n",
    "\n",
    "```sql\n",
    "SELECT instructor.ID, instructor.name, phone.phone_number, phone.location \n",
    "FROM instructor\n",
    "LEFT JOIN phone ON instructor.ID = phone.ID\n",
    "WHERE location = 'Office';\n",
    "```"
   ]
  },
  {
   "cell_type": "code",
   "execution_count": 22,
   "id": "streaming-bandwidth",
   "metadata": {
    "slideshow": {
     "slide_type": "skip"
    },
    "tags": [
     "remove_cell"
    ]
   },
   "outputs": [
    {
     "name": "stdout",
     "output_type": "stream",
     "text": [
      " * sqlite:///resources/sql.db\n",
      "Done.\n",
      "|    ID | name       | phone_number   | location   |\n",
      "|------:|:-----------|:---------------|:-----------|\n",
      "| 10101 | Srinivasan | 358-777-1265   | Office     |\n",
      "| 12121 | Wu         | 492-554-3421   | Office     |\n",
      "| 15151 | Mozart     | 722-035-7216   | Office     |\n",
      "| 22222 | Einstein   | 275-026-7979   | Office     |\n",
      "| 32343 | El Said    | 175-304-5605   | Office     |\n",
      "| 33456 | Gold       | 132-360-4775   | Office     |\n",
      "| 45565 | Katz       | 182-846-5531   | Office     |\n",
      "| 58583 | Califieri  | 722-419-0625   | Office     |\n",
      "| 76543 | Singh      | 802-567-3477   | Office     |\n",
      "| 76766 | Crick      | 735-031-4651   | Office     |\n",
      "| 83821 | Brandt     | 573-255-8741   | Office     |\n"
     ]
    }
   ],
   "source": [
    "query = \"\"\"SELECT instructor.ID, instructor.name, phone.phone_number, phone.location \n",
    "FROM instructor\n",
    "LEFT JOIN phone ON instructor.ID = phone.ID\n",
    "WHERE location = 'Office';\"\"\"\n",
    "query_res = %sql $query\n",
    "query_res = query_res.DataFrame()\n",
    "print(query_res.to_markdown(index=False))"
   ]
  },
  {
   "cell_type": "markdown",
   "id": "specific-wings",
   "metadata": {
    "slideshow": {
     "slide_type": "fragment"
    }
   },
   "source": [
    "#### Result\n",
    "\n",
    "|    ID | name       | phone_number   | location   |\n",
    "|------:|:-----------|:---------------|:-----------|\n",
    "| 10101 | Srinivasan | 358-777-1265   | Office     |\n",
    "| 12121 | Wu         | 492-554-3421   | Office     |\n",
    "| 15151 | Mozart     | 722-035-7216   | Office     |\n",
    "| 22222 | Einstein   | 275-026-7979   | Office     |\n",
    "| 32343 | El Said    | 175-304-5605   | Office     |\n",
    "| 33456 | Gold       | 132-360-4775   | Office     |\n",
    "| 45565 | Katz       | 182-846-5531   | Office     |\n",
    "| 58583 | Califieri  | 722-419-0625   | Office     |\n",
    "| 76543 | Singh      | 802-567-3477   | Office     |\n",
    "| 76766 | Crick      | 735-031-4651   | Office     |\n",
    "| 83821 | Brandt     | 573-255-8741   | Office     |\n",
    "\n",
    "Note: There is no phone number for instructor Kim (ID = 98345), so their record does not show because we are filtering by phone location."
   ]
  },
  {
   "cell_type": "markdown",
   "id": "greater-shaft",
   "metadata": {
    "slideshow": {
     "slide_type": "slide"
    }
   },
   "source": [
    "### Updated records\n",
    "\n",
    "Show the instructor IDs, names, and phone numbers for _Office_ (if any).\n",
    "\n",
    "#### Query\n",
    "\n",
    "```sql\n",
    "SELECT instructor.ID, instructor.name, phone.phone_number, phone.location \n",
    "FROM instructor\n",
    "LEFT JOIN phone ON instructor.ID = phone.ID\n",
    "WHERE location = 'Office' OR location IS NULL;\n",
    "```"
   ]
  },
  {
   "cell_type": "code",
   "execution_count": 27,
   "id": "dated-humanity",
   "metadata": {
    "slideshow": {
     "slide_type": "skip"
    },
    "tags": [
     "remove_cell"
    ]
   },
   "outputs": [
    {
     "name": "stdout",
     "output_type": "stream",
     "text": [
      " * sqlite:///resources/sql.db\n",
      "Done.\n",
      "|    ID | name       | phone_number   | location   |\n",
      "|------:|:-----------|:---------------|:-----------|\n",
      "| 10101 | Srinivasan | 358-777-1265   | Office     |\n",
      "| 12121 | Wu         | 492-554-3421   | Office     |\n",
      "| 15151 | Mozart     | 722-035-7216   | Office     |\n",
      "| 22222 | Einstein   | 275-026-7979   | Office     |\n",
      "| 32343 | El Said    | 175-304-5605   | Office     |\n",
      "| 33456 | Gold       | 132-360-4775   | Office     |\n",
      "| 45565 | Katz       | 182-846-5531   | Office     |\n",
      "| 58583 | Califieri  | 722-419-0625   | Office     |\n",
      "| 76543 | Singh      | 802-567-3477   | Office     |\n",
      "| 76766 | Crick      | 735-031-4651   | Office     |\n",
      "| 83821 | Brandt     | 573-255-8741   | Office     |\n",
      "| 98345 | Kim        |                |            |\n"
     ]
    }
   ],
   "source": [
    "query = \"\"\"SELECT instructor.ID, instructor.name, phone.phone_number, phone.location \n",
    "FROM instructor\n",
    "LEFT JOIN phone ON instructor.ID = phone.ID\n",
    "WHERE location = 'Office' OR location IS NULL;\"\"\"\n",
    "query_res = %sql $query\n",
    "query_res = query_res.DataFrame()\n",
    "print(query_res.to_markdown(index=False))"
   ]
  },
  {
   "cell_type": "markdown",
   "id": "recovered-there",
   "metadata": {
    "slideshow": {
     "slide_type": "fragment"
    }
   },
   "source": [
    "#### Result\n",
    "\n",
    "|    ID | name       | phone_number   | location   |\n",
    "|------:|:-----------|:---------------|:-----------|\n",
    "| 10101 | Srinivasan | 358-777-1265   | Office     |\n",
    "| 12121 | Wu         | 492-554-3421   | Office     |\n",
    "| 15151 | Mozart     | 722-035-7216   | Office     |\n",
    "| 22222 | Einstein   | 275-026-7979   | Office     |\n",
    "| 32343 | El Said    | 175-304-5605   | Office     |\n",
    "| 33456 | Gold       | 132-360-4775   | Office     |\n",
    "| 45565 | Katz       | 182-846-5531   | Office     |\n",
    "| 58583 | Califieri  | 722-419-0625   | Office     |\n",
    "| 76543 | Singh      | 802-567-3477   | Office     |\n",
    "| 76766 | Crick      | 735-031-4651   | Office     |\n",
    "| 83821 | Brandt     | 573-255-8741   | Office     |\n",
    "| 98345 | Kim        |                |            |\n",
    "\n",
    "Note: There are no phone numbers for instructor Kim (ID = 98345) so the column appears empty."
   ]
  },
  {
   "cell_type": "markdown",
   "id": "broadband-produce",
   "metadata": {
    "slideshow": {
     "slide_type": "skip"
    },
    "tags": [
     "remove_cell"
    ]
   },
   "source": [
    "---\n",
    "\n",
    "## Schema for instructor relation\n",
    "\n",
    "What if we want to have multiple phone number for instructors?\n",
    "\n",
    "### Option 4\n",
    "\n",
    "Use of phone as an entity allows extra information about phone numbers (plus multiple phone numbers).\n",
    "\n",
    "![Figure 6.3(b): Schema diagram for instructor relation](figures/ERD-instructor-Option_4.png)"
   ]
  },
  {
   "cell_type": "markdown",
   "id": "commercial-brush",
   "metadata": {
    "slideshow": {
     "slide_type": "skip"
    },
    "tags": [
     "remove_cell"
    ]
   },
   "source": [
    "#### SQL data definitions\n",
    "\n",
    "Create a tables to store and assign the phone numbers:\n",
    "\n",
    "```sql\n",
    "CREATE TABLE phone\n",
    "    (phone_number   varchar(12), \n",
    "     location       varchar(6)\n",
    "             CHECK (location IN ('Office', 'Cell', 'Home', 'Other')),\n",
    "     PRIMARY KEY (phone_number)\n",
    "    );\n",
    "    \n",
    "CREATE TABLE phone_inst\n",
    "    (ID             varchar(5),\n",
    "     phone_number   varchar(12), \n",
    "     PRIMARY KEY (ID, phone_number),\n",
    "     FOREIGN KEY (ID) REFERENCES instructor\n",
    "            ON DELETE CASCADE\n",
    "    );\n",
    "```\n"
   ]
  },
  {
   "cell_type": "code",
   "execution_count": null,
   "id": "continuing-tackle",
   "metadata": {
    "slideshow": {
     "slide_type": "skip"
    },
    "tags": [
     "remove_cell"
    ]
   },
   "outputs": [],
   "source": [
    "%%sql\n",
    "\n",
    "CREATE TABLE phone\n",
    "    (phone_number   varchar(12), \n",
    "     location       varchar(6)\n",
    "             CHECK (location IN ('Office', 'Cell', 'Home', 'Other')),\n",
    "     PRIMARY KEY (phone_number)\n",
    "    );\n",
    "    \n",
    "CREATE TABLE phone_inst\n",
    "    (ID             varchar(5),\n",
    "     phone_number   varchar(12), \n",
    "     PRIMARY KEY (ID, phone_number),\n",
    "     FOREIGN KEY (ID) REFERENCES instructor\n",
    "            ON DELETE CASCADE\n",
    "    );"
   ]
  },
  {
   "cell_type": "code",
   "execution_count": null,
   "id": "deluxe-christian",
   "metadata": {
    "slideshow": {
     "slide_type": "skip"
    },
    "tags": [
     "remove_cell"
    ]
   },
   "outputs": [],
   "source": [
    "result = %sql select ID from instructor;\n",
    "num_instructors = len(result)\n",
    "\n",
    "alt_phone_numbers = [random_phone_num_generator() for i in range(num_instructors)]\n",
    "assert len(alt_phone_numbers) == len(set(alt_phone_numbers))\n",
    "locations = {'Office': gen_phone_numbers, 'Cell': alt_phone_numbers}\n",
    "\n",
    "phone_commands = []\n",
    "phone_inst_commands = []\n",
    "for location in ['Office', 'Cell']:\n",
    "    for idx, record in enumerate(result):\n",
    "        uid = record[0]\n",
    "        phone = locations[location][idx]\n",
    "        \n",
    "        # phone table\n",
    "        insert = f\"INSERT INTO phone VALUES ('{phone}', '{location}');\"\n",
    "        phone_commands.append(insert)\n",
    "        \n",
    "        # phone_inst table\n",
    "        insert = f\"INSERT INTO phone_inst VALUES ('{uid}', '{phone}');\"\n",
    "        phone_inst_commands.append(insert)"
   ]
  },
  {
   "cell_type": "markdown",
   "id": "under-accreditation",
   "metadata": {
    "slideshow": {
     "slide_type": "skip"
    },
    "tags": [
     "remove_cell"
    ]
   },
   "source": [
    "#### INSERT Commands for Table: phone\n",
    "\n",
    "These will add the phone numbers:\n",
    "\n",
    "```sql\n",
    "INSERT INTO phone VALUES ('999-113-1268', 'Office');\n",
    "INSERT INTO phone VALUES ('761-856-0718', 'Office');\n",
    "INSERT INTO phone VALUES ('274-715-6841', 'Office');\n",
    "INSERT INTO phone VALUES ('727-780-1695', 'Office');\n",
    "INSERT INTO phone VALUES ('118-354-8109', 'Office');\n",
    "INSERT INTO phone VALUES ('589-847-6616', 'Office');\n",
    "INSERT INTO phone VALUES ('740-333-3446', 'Office');\n",
    "INSERT INTO phone VALUES ('749-361-2350', 'Office');\n",
    "INSERT INTO phone VALUES ('856-262-2788', 'Office');\n",
    "INSERT INTO phone VALUES ('418-409-7638', 'Office');\n",
    "INSERT INTO phone VALUES ('973-587-6940', 'Office');\n",
    "INSERT INTO phone VALUES ('548-012-7539', 'Office');\n",
    "INSERT INTO phone VALUES ('906-214-7631', 'Cell');\n",
    "INSERT INTO phone VALUES ('851-591-5780', 'Cell');\n",
    "INSERT INTO phone VALUES ('233-467-9285', 'Cell');\n",
    "INSERT INTO phone VALUES ('318-795-0911', 'Cell');\n",
    "INSERT INTO phone VALUES ('526-242-8559', 'Cell');\n",
    "INSERT INTO phone VALUES ('488-016-4674', 'Cell');\n",
    "INSERT INTO phone VALUES ('403-866-7060', 'Cell');\n",
    "INSERT INTO phone VALUES ('540-653-4106', 'Cell');\n",
    "INSERT INTO phone VALUES ('202-866-8444', 'Cell');\n",
    "INSERT INTO phone VALUES ('407-517-2335', 'Cell');\n",
    "INSERT INTO phone VALUES ('559-565-8598', 'Cell');\n",
    "INSERT INTO phone VALUES ('804-869-1214', 'Cell');\n",
    "```"
   ]
  },
  {
   "cell_type": "code",
   "execution_count": null,
   "id": "classical-dispatch",
   "metadata": {
    "slideshow": {
     "slide_type": "skip"
    },
    "tags": [
     "remove_cell"
    ]
   },
   "outputs": [],
   "source": [
    "for insert in phone_commands:\n",
    "    print(insert)\n",
    "\n",
    "for insert in phone_commands:\n",
    "    %sql $insert"
   ]
  },
  {
   "cell_type": "markdown",
   "id": "regulated-hamburg",
   "metadata": {
    "slideshow": {
     "slide_type": "skip"
    },
    "tags": [
     "remove_cell"
    ]
   },
   "source": [
    "#### INSERT Commands for Table: phone_inst\n",
    "\n",
    "These will assign phone numbers to the instructors:\n",
    "\n",
    "```sql\n",
    "INSERT INTO phone_inst VALUES ('10101', '999-113-1268');\n",
    "INSERT INTO phone_inst VALUES ('12121', '761-856-0718');\n",
    "INSERT INTO phone_inst VALUES ('15151', '274-715-6841');\n",
    "INSERT INTO phone_inst VALUES ('22222', '727-780-1695');\n",
    "INSERT INTO phone_inst VALUES ('32343', '118-354-8109');\n",
    "INSERT INTO phone_inst VALUES ('33456', '589-847-6616');\n",
    "INSERT INTO phone_inst VALUES ('45565', '740-333-3446');\n",
    "INSERT INTO phone_inst VALUES ('58583', '749-361-2350');\n",
    "INSERT INTO phone_inst VALUES ('76543', '856-262-2788');\n",
    "INSERT INTO phone_inst VALUES ('76766', '418-409-7638');\n",
    "INSERT INTO phone_inst VALUES ('83821', '973-587-6940');\n",
    "INSERT INTO phone_inst VALUES ('98345', '548-012-7539');\n",
    "INSERT INTO phone_inst VALUES ('10101', '906-214-7631');\n",
    "INSERT INTO phone_inst VALUES ('12121', '851-591-5780');\n",
    "INSERT INTO phone_inst VALUES ('15151', '233-467-9285');\n",
    "INSERT INTO phone_inst VALUES ('22222', '318-795-0911');\n",
    "INSERT INTO phone_inst VALUES ('32343', '526-242-8559');\n",
    "INSERT INTO phone_inst VALUES ('33456', '488-016-4674');\n",
    "INSERT INTO phone_inst VALUES ('45565', '403-866-7060');\n",
    "INSERT INTO phone_inst VALUES ('58583', '540-653-4106');\n",
    "INSERT INTO phone_inst VALUES ('76543', '202-866-8444');\n",
    "INSERT INTO phone_inst VALUES ('76766', '407-517-2335');\n",
    "INSERT INTO phone_inst VALUES ('83821', '559-565-8598');\n",
    "INSERT INTO phone_inst VALUES ('98345', '804-869-1214');\n",
    "```"
   ]
  },
  {
   "cell_type": "code",
   "execution_count": null,
   "id": "orange-safety",
   "metadata": {
    "slideshow": {
     "slide_type": "skip"
    },
    "tags": [
     "remove_cell"
    ]
   },
   "outputs": [],
   "source": [
    "for insert in phone_inst_commands:\n",
    "    print(insert)\n",
    "print()\n",
    "for insert in phone_inst_commands:\n",
    "    %sql $insert"
   ]
  },
  {
   "cell_type": "code",
   "execution_count": null,
   "id": "chemical-sodium",
   "metadata": {
    "slideshow": {
     "slide_type": "skip"
    },
    "tags": [
     "remove_cell"
    ]
   },
   "outputs": [],
   "source": [
    "query = \"\"\"SELECT instructor.ID, instructor.name, phone.phone_number, phone.location \n",
    "FROM instructor\n",
    "LEFT JOIN phone_inst ON instructor.ID = phone_inst.ID\n",
    "LEFT JOIN phone ON phone_inst.phone_number = phone.phone_number\n",
    "WHERE location = 'Office';\"\"\"\n",
    "query_res = %sql $query\n",
    "query_res = query_res.DataFrame()\n",
    "print(query_res.to_markdown(index=False))"
   ]
  },
  {
   "cell_type": "markdown",
   "id": "abroad-output",
   "metadata": {
    "slideshow": {
     "slide_type": "skip"
    },
    "tags": [
     "remove_cell"
    ]
   },
   "source": [
    "### Updated records\n",
    "\n",
    "Show the instructor IDs, names, and _Office_ phone numbers\n",
    "\n",
    "#### Query\n",
    "\n",
    "```sql\n",
    "SELECT instructor.ID, instructor.name, phone.phone_number, phone.location \n",
    "FROM instructor\n",
    "LEFT JOIN phone_inst ON instructor.ID = phone_inst.ID\n",
    "LEFT JOIN phone ON phone_inst.phone_number = phone.phone_number\n",
    "WHERE location = 'Office';\n",
    "```"
   ]
  },
  {
   "cell_type": "markdown",
   "id": "restricted-northwest",
   "metadata": {
    "slideshow": {
     "slide_type": "skip"
    },
    "tags": [
     "remove_cell"
    ]
   },
   "source": [
    "#### Result\n",
    "\n",
    "|    ID | name       | phone_number   | location   |\n",
    "|------:|:-----------|:---------------|:-----------|\n",
    "| 10101 | Srinivasan | 999-113-1268   | Office     |\n",
    "| 12121 | Wu         | 761-856-0718   | Office     |\n",
    "| 15151 | Mozart     | 274-715-6841   | Office     |\n",
    "| 22222 | Einstein   | 727-780-1695   | Office     |\n",
    "| 32343 | El Said    | 118-354-8109   | Office     |\n",
    "| 33456 | Gold       | 589-847-6616   | Office     |\n",
    "| 45565 | Katz       | 740-333-3446   | Office     |\n",
    "| 58583 | Califieri  | 749-361-2350   | Office     |\n",
    "| 76543 | Singh      | 856-262-2788   | Office     |\n",
    "| 76766 | Crick      | 418-409-7638   | Office     |\n",
    "| 83821 | Brandt     | 973-587-6940   | Office     |\n",
    "| 98345 | Kim        | 548-012-7539   | Office     |"
   ]
  }
 ],
 "metadata": {
  "kernelspec": {
   "display_name": "Python 3",
   "language": "python",
   "name": "python3"
  },
  "language_info": {
   "codemirror_mode": {
    "name": "ipython",
    "version": 3
   },
   "file_extension": ".py",
   "mimetype": "text/x-python",
   "name": "python",
   "nbconvert_exporter": "python",
   "pygments_lexer": "ipython3",
   "version": "3.7.5"
  },
  "toc-showcode": false,
  "toc-showtags": false
 },
 "nbformat": 4,
 "nbformat_minor": 5
}
